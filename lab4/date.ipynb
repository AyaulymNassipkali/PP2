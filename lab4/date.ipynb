{
 "cells": [
  {
   "cell_type": "code",
   "execution_count": null,
   "metadata": {},
   "outputs": [],
   "source": [
    "from datetime import date,  timedelta, datetime\n",
    "current = date.today() - timedelta(5)\n",
    "print(\"Current time: \", date.today())\n",
    "print(\"Substact five days : \",current)"
   ]
  },
  {
   "cell_type": "code",
   "execution_count": null,
   "metadata": {},
   "outputs": [],
   "source": [
    "from datetime import date,  timedelta, datetime\n",
    "time = datetime.now()-timedelta(1)\n",
    "yesterday = time.strftime(\"%d-%m-%Y\")\n",
    "\n",
    "print(\"Yesterday: \",yesterday)\n",
    "\n",
    "time = datetime.now()\n",
    "today = time.strftime(\"%d-%m-%Y\")\n",
    "\n",
    "print(\"Today: \",today)\n",
    "\n",
    "time = datetime.now()+timedelta(1)\n",
    "tomorrow = time.strftime(\"%d-%m-%Y\")\n",
    "\n",
    "print(\"Tomorrow: \", tomorrow)"
   ]
  },
  {
   "cell_type": "code",
   "execution_count": null,
   "metadata": {},
   "outputs": [],
   "source": [
    "from datetime import date,timedelta,datetime\n",
    "time = datetime.now()\n",
    "withoutmiliseconds = time.strftime(\"%Y-%m-%d, %H:%M:%S\")\n",
    "print(withoutmiliseconds)"
   ]
  },
  {
   "cell_type": "code",
   "execution_count": null,
   "metadata": {},
   "outputs": [],
   "source": [
    "from datetime import date,timedelta, datetime\n",
    "yesterday = datetime.now()-timedelta(1)\n",
    "tomorrow = datetime.now()+timedelta(1)\n",
    "\n",
    "\n",
    "yesterday = datetime.timestamp(yesterday)\n",
    "tomorrow = datetime.timestamp(tomorrow)\n",
    "\n",
    "print(tomorrow-yesterday)"
   ]
  }
 ],
 "metadata": {
  "language_info": {
   "name": "python"
  }
 },
 "nbformat": 4,
 "nbformat_minor": 2
}
