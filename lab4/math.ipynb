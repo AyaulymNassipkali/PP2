{
 "cells": [
  {
   "cell_type": "code",
   "execution_count": null,
   "metadata": {},
   "outputs": [],
   "source": [
    "import math\n",
    "k=float(input(\"sandy engiz:\"))\n",
    "print(\"Radian:\",math.radians(k))"
   ]
  },
  {
   "cell_type": "code",
   "execution_count": null,
   "metadata": {},
   "outputs": [],
   "source": [
    "import math\n",
    "h=float(input(\"Hight:\"))\n",
    "a=float(input(\"Base,first value:\"))\n",
    "b=float(input(\"Base,second value:\"))\n",
    "print(\"Trapazoide area:\",(a+b)*0.5*h)"
   ]
  },
  {
   "cell_type": "code",
   "execution_count": null,
   "metadata": {},
   "outputs": [],
   "source": [
    "import math\n",
    "n=int(input(\"Input number of sides:\"))\n",
    "a=int(input(\"Input the length of a side:\"))\n",
    "area = (n * a**2) / (4 * math.tan(math.pi / n))\n",
    "print(\"Area:\",area)"
   ]
  },
  {
   "cell_type": "code",
   "execution_count": null,
   "metadata": {},
   "outputs": [],
   "source": [
    "import math\n",
    "b=int(input(\"a:\"))\n",
    "a=int(input(\"b:\"))\n",
    "print(float(a*b))"
   ]
  }
 ],
 "metadata": {
  "language_info": {
   "name": "python"
  }
 },
 "nbformat": 4,
 "nbformat_minor": 2
}
