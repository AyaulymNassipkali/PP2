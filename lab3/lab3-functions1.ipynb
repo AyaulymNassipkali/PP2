{
 "cells": [
  {
   "cell_type": "code",
   "execution_count": 10,
   "metadata": {},
   "outputs": [
    {
     "name": "stdout",
     "output_type": "stream",
     "text": [
      "ounces= 1.97534176\n"
     ]
    }
   ],
   "source": [
    "def grams(gram):\n",
    "    ounces = 0.03527396 * gram\n",
    "    return ounces\n",
    "gram=float(input(\"gram:\"))\n",
    "print(\"ounces=\",grams(gram))"
   ]
  },
  {
   "cell_type": "code",
   "execution_count": 11,
   "metadata": {},
   "outputs": [
    {
     "name": "stdout",
     "output_type": "stream",
     "text": [
      "celcie: -21.11111111111111\n"
     ]
    }
   ],
   "source": [
    "def temperature(F):\n",
    "    C = (5 / 9) * (F - 32)\n",
    "    return C\n",
    "F=float(input(\"frongate:\"))\n",
    "print(\"celcie:\",temperature(F))"
   ]
  },
  {
   "cell_type": "code",
   "execution_count": 12,
   "metadata": {},
   "outputs": [
    {
     "name": "stdout",
     "output_type": "stream",
     "text": [
      "chicken 23, rabbits 12 \n"
     ]
    }
   ],
   "source": [
    "def heads(head, legs):\n",
    "    for i in range(1,head):\n",
    "        if i*2 + (head-i)*4==legs:\n",
    "            return f\"chicken {i}, rabbits {head-i} \"\n",
    "\n",
    "print(heads(35, 94))"
   ]
  },
  {
   "cell_type": "code",
   "execution_count": 18,
   "metadata": {},
   "outputs": [
    {
     "name": "stdout",
     "output_type": "stream",
     "text": [
      "Prime numbers: [2, 3, 7, 5]\n"
     ]
    }
   ],
   "source": [
    "def is_prime(num):\n",
    "    if num < 2:\n",
    "        return False\n",
    "    for i in range(2, int(num**0.5) + 1):\n",
    "        if num % i == 0:\n",
    "            return False\n",
    "    return True\n",
    "\n",
    "def filter_prime(numbers):\n",
    "    return list(filter(is_prime, numbers))\n",
    "\n",
    "n=int(input())\n",
    "numbers_list=[]\n",
    "for i in range(n):\n",
    "    num=int(input())\n",
    "    numbers_list.append(num)\n",
    "\n",
    "prime_numbers = filter_prime(numbers_list)\n",
    "print(\"Prime numbers:\", prime_numbers)"
   ]
  },
  {
   "cell_type": "code",
   "execution_count": 19,
   "metadata": {},
   "outputs": [
    {
     "name": "stdout",
     "output_type": "stream",
     "text": [
      "I   L O V E   K B T U _   I   W I L L   A C H I E V E   M Y   G O A L S \n",
      "S I   L O V E   K B T U _   I   W I L L   A C H I E V E   M Y   G O A L \n",
      "L S I   L O V E   K B T U _   I   W I L L   A C H I E V E   M Y   G O A \n",
      "A L S I   L O V E   K B T U _   I   W I L L   A C H I E V E   M Y   G O \n",
      "O A L S I   L O V E   K B T U _   I   W I L L   A C H I E V E   M Y   G \n",
      "G O A L S I   L O V E   K B T U _   I   W I L L   A C H I E V E   M Y   \n",
      "  G O A L S I   L O V E   K B T U _   I   W I L L   A C H I E V E   M Y \n",
      "Y   G O A L S I   L O V E   K B T U _   I   W I L L   A C H I E V E   M \n",
      "M Y   G O A L S I   L O V E   K B T U _   I   W I L L   A C H I E V E   \n",
      "  M Y   G O A L S I   L O V E   K B T U _   I   W I L L   A C H I E V E \n",
      "E   M Y   G O A L S I   L O V E   K B T U _   I   W I L L   A C H I E V \n",
      "V E   M Y   G O A L S I   L O V E   K B T U _   I   W I L L   A C H I E \n",
      "E V E   M Y   G O A L S I   L O V E   K B T U _   I   W I L L   A C H I \n",
      "I E V E   M Y   G O A L S I   L O V E   K B T U _   I   W I L L   A C H \n",
      "H I E V E   M Y   G O A L S I   L O V E   K B T U _   I   W I L L   A C \n",
      "C H I E V E   M Y   G O A L S I   L O V E   K B T U _   I   W I L L   A \n",
      "A C H I E V E   M Y   G O A L S I   L O V E   K B T U _   I   W I L L   \n",
      "  A C H I E V E   M Y   G O A L S I   L O V E   K B T U _   I   W I L L \n",
      "L   A C H I E V E   M Y   G O A L S I   L O V E   K B T U _   I   W I L \n",
      "L L   A C H I E V E   M Y   G O A L S I   L O V E   K B T U _   I   W I \n",
      "I L L   A C H I E V E   M Y   G O A L S I   L O V E   K B T U _   I   W \n",
      "W I L L   A C H I E V E   M Y   G O A L S I   L O V E   K B T U _   I   \n",
      "  W I L L   A C H I E V E   M Y   G O A L S I   L O V E   K B T U _   I \n",
      "I   W I L L   A C H I E V E   M Y   G O A L S I   L O V E   K B T U _   \n",
      "  I   W I L L   A C H I E V E   M Y   G O A L S I   L O V E   K B T U _ \n",
      "_   I   W I L L   A C H I E V E   M Y   G O A L S I   L O V E   K B T U \n",
      "U _   I   W I L L   A C H I E V E   M Y   G O A L S I   L O V E   K B T \n",
      "T U _   I   W I L L   A C H I E V E   M Y   G O A L S I   L O V E   K B \n",
      "B T U _   I   W I L L   A C H I E V E   M Y   G O A L S I   L O V E   K \n",
      "K B T U _   I   W I L L   A C H I E V E   M Y   G O A L S I   L O V E   \n",
      "  K B T U _   I   W I L L   A C H I E V E   M Y   G O A L S I   L O V E \n",
      "E   K B T U _   I   W I L L   A C H I E V E   M Y   G O A L S I   L O V \n",
      "V E   K B T U _   I   W I L L   A C H I E V E   M Y   G O A L S I   L O \n",
      "O V E   K B T U _   I   W I L L   A C H I E V E   M Y   G O A L S I   L \n",
      "L O V E   K B T U _   I   W I L L   A C H I E V E   M Y   G O A L S I   \n",
      "  L O V E   K B T U _   I   W I L L   A C H I E V E   M Y   G O A L S I \n"
     ]
    }
   ],
   "source": [
    "def permutations(some):\n",
    "    n = len(some)\n",
    "\n",
    "    for i in range(n):\n",
    "        for j in range(n):\n",
    "            print(some[(j-i)], end=\" \")\n",
    "        print()\n",
    "k=str(input(\"soz:\"))\n",
    "permutations(k)"
   ]
  },
  {
   "cell_type": "code",
   "execution_count": 20,
   "metadata": {},
   "outputs": [
    {
     "name": "stdout",
     "output_type": "stream",
     "text": [
      "Aya me call can you But Ayaulym. is name My "
     ]
    }
   ],
   "source": [
    "def _reverse(strings):\n",
    "    strings=list(strings.split())\n",
    "    strings.reverse()\n",
    "    for i in strings:\n",
    "        print(i, end=\" \")\n",
    "\n",
    "k=str(input(\"soz:\"))\n",
    "_reverse(k)"
   ]
  },
  {
   "cell_type": "code",
   "execution_count": 21,
   "metadata": {},
   "outputs": [
    {
     "name": "stdout",
     "output_type": "stream",
     "text": [
      "True\n",
      "False\n",
      "False\n"
     ]
    }
   ],
   "source": [
    "def has_33(nums):\n",
    "    for i in range(len(nums) - 1):\n",
    "        if nums[i] == 3 and nums[i + 1] == 3:\n",
    "            return True\n",
    "    return False\n",
    "\n",
    "\n",
    "has_33([1, 3, 3])\n",
    "print(has_33([1, 3, 3]))\n",
    "print(has_33([1, 3, 1, 3]))\n",
    "print(has_33([3, 1, 3]))"
   ]
  },
  {
   "cell_type": "code",
   "execution_count": 22,
   "metadata": {},
   "outputs": [
    {
     "name": "stdout",
     "output_type": "stream",
     "text": [
      "True\n",
      "True\n",
      "False\n"
     ]
    }
   ],
   "source": [
    "def order007(arr):\n",
    "    result = []\n",
    "    for i in arr:\n",
    "        if i==0 or i==7:\n",
    "            result.append(i)\n",
    "    \n",
    "    flag =  False\n",
    "    for i in range(len(result)-2):\n",
    "        if result[i]==result[i+1] and result[i]==0 and result[i+2]==7:\n",
    "            flag = True\n",
    "        \n",
    "    if flag:\n",
    "        print(\"True\")\n",
    "    else:\n",
    "        print(\"False\")\n",
    "\n",
    "order007([1,2,4,0,0,5,7])\n",
    "order007([1,0,2,4,0,5,7])\n",
    "order007([1,7,2,0,4,5,0])"
   ]
  },
  {
   "cell_type": "code",
   "execution_count": 23,
   "metadata": {},
   "outputs": [
    {
     "name": "stdout",
     "output_type": "stream",
     "text": [
      "523.5987755982989\n"
     ]
    }
   ],
   "source": [
    "import math\n",
    "def volumespher(radius):\n",
    "    V=(4*math.pi*(radius**3))/3\n",
    "    return V\n",
    "    \n",
    "radius=float(input(\"radius:\"))\n",
    "print(volumespher(radius))"
   ]
  },
  {
   "cell_type": "code",
   "execution_count": 27,
   "metadata": {},
   "outputs": [
    {
     "name": "stdout",
     "output_type": "stream",
     "text": [
      "[4, 6, 3]\n"
     ]
    }
   ],
   "source": [
    "def unique(mylist):\n",
    "    result = []\n",
    "    for i in mylist:\n",
    "        if mylist.count(i) == 1:\n",
    "            result.append(i)\n",
    "    return result\n",
    "\n",
    "n = int(input(\"n: \"))\n",
    "mylist = []\n",
    "for i in range(n):\n",
    "    number = int(input(\"number: \"))\n",
    "    mylist.append(number)\n",
    "print(unique(mylist))"
   ]
  },
  {
   "cell_type": "code",
   "execution_count": 28,
   "metadata": {},
   "outputs": [
    {
     "name": "stdout",
     "output_type": "stream",
     "text": [
      "YES\n"
     ]
    }
   ],
   "source": [
    "def palindrom(text):\n",
    "    if text==text[::-1]:\n",
    "        print(\"YES\")\n",
    "    else:\n",
    "        print(\"NO\")\n",
    "\n",
    "text = input(\"text: \")\n",
    "palindrom(text)"
   ]
  },
  {
   "cell_type": "code",
   "execution_count": 30,
   "metadata": {},
   "outputs": [
    {
     "name": "stdout",
     "output_type": "stream",
     "text": [
      "******\n",
      "*******\n",
      "****\n"
     ]
    }
   ],
   "source": [
    "def histogram(arr):\n",
    "    for i in arr:\n",
    "        print(\"*\"*i)\n",
    "n=input(\"numbers:\")\n",
    "mylist=list(map(int,n.split()))\n",
    "histogram(mylist)"
   ]
  },
  {
   "cell_type": "code",
   "execution_count": 9,
   "metadata": {},
   "outputs": [
    {
     "name": "stdout",
     "output_type": "stream",
     "text": [
      "Hello! What is your name?\n",
      "Aya\n",
      " \n",
      "Well, Aya, I am thinking of a number between 1 and 20.\n",
      "Take a guess.\n",
      "12\n",
      " \n",
      "Your guess is too high.\n",
      "Take a guess.\n",
      "5\n",
      " \n",
      "Your guess is too high.\n",
      "Take a guess.\n",
      "4\n",
      " \n",
      "Your guess is too high.\n",
      "Take a guess.\n",
      "3\n",
      " \n",
      "Your guess is too high.\n",
      "Take a guess.\n",
      "2\n",
      " \n",
      "Your guess is too high.\n",
      "Take a guess.\n",
      "1\n",
      " \n",
      "Good job, Aya! You guessed my number in 6 guesses!\n"
     ]
    }
   ],
   "source": [
    "from random import randint\n",
    "\n",
    "def guessanumber():\n",
    "    print(\"Hello! What is your name?\")\n",
    "    name = input(\"name:\")\n",
    "    print(name)\n",
    "    print(\" \")\n",
    "    print(f\"Well, {name}, I am thinking of a number between 1 and 20.\")\n",
    "    number = randint(1,20)\n",
    "    sum = 0\n",
    "    run = True\n",
    "    while run:\n",
    "        print(\"Take a guess.\")\n",
    "        guess = int(input(\"Take a guess: \"))\n",
    "        print(guess)\n",
    "        print(\" \")\n",
    "        sum+=1\n",
    "        if guess == number:\n",
    "            run = False\n",
    "            print(f\"Good job, {name}! You guessed my number in {sum} guesses!\")\n",
    "            break\n",
    "        if guess>number:\n",
    "            print(\"Your guess is too high.\")\n",
    "        else:\n",
    "            print(\"Your guess is too low\")\n",
    "\n",
    "\n",
    "guessanumber()"
   ]
  },
  {
   "cell_type": "code",
   "execution_count": 9,
   "metadata": {},
   "outputs": [
    {
     "name": "stdout",
     "output_type": "stream",
     "text": [
      "Hello! What is your name?\n",
      "Aya\n",
      " \n",
      "Well, Aya, I am thinking of a number between 1 and 20.\n",
      "Take a guess.\n",
      "12\n",
      " \n",
      "Your guess is too high.\n",
      "Take a guess.\n",
      "10\n",
      " \n",
      "Your guess is too high.\n",
      "Take a guess.\n",
      "9\n",
      " \n",
      "Your guess is too high.\n",
      "Take a guess.\n",
      "7\n",
      " \n",
      "Your guess is too high.\n",
      "Take a guess.\n",
      "6\n",
      " \n",
      "Your guess is too high.\n",
      "Take a guess.\n",
      "4\n",
      " \n",
      "Your guess is too high.\n",
      "Take a guess.\n",
      "2\n",
      " \n",
      "Your guess is too low\n",
      "Take a guess.\n",
      "3\n",
      " \n",
      "Good job, Aya! You guessed my number in 8 guesses!\n"
     ]
    }
   ],
   "source": [
    "from guess_game import guessanumber\n",
    "\n",
    "guessanumber()\n"
   ]
  }
 ],
 "metadata": {
  "kernelspec": {
   "display_name": "Python 3",
   "language": "python",
   "name": "python3"
  },
  "language_info": {
   "codemirror_mode": {
    "name": "ipython",
    "version": 3
   },
   "file_extension": ".py",
   "mimetype": "text/x-python",
   "name": "python",
   "nbconvert_exporter": "python",
   "pygments_lexer": "ipython3",
   "version": "3.12.2"
  }
 },
 "nbformat": 4,
 "nbformat_minor": 2
}
